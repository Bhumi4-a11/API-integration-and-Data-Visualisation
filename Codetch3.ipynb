{
 "cells": [
  {
   "cell_type": "code",
   "execution_count": 1,
   "id": "2d3812ec-8978-4da9-87bf-58fd43504cb7",
   "metadata": {},
   "outputs": [
    {
     "name": "stdout",
     "output_type": "stream",
     "text": [
      "Requirement already satisfied: nltk in /opt/anaconda3/lib/python3.12/site-packages (3.9.1)\n",
      "Requirement already satisfied: click in /opt/anaconda3/lib/python3.12/site-packages (from nltk) (8.1.7)\n",
      "Requirement already satisfied: joblib in /opt/anaconda3/lib/python3.12/site-packages (from nltk) (1.4.2)\n",
      "Requirement already satisfied: regex>=2021.8.3 in /opt/anaconda3/lib/python3.12/site-packages (from nltk) (2024.9.11)\n",
      "Requirement already satisfied: tqdm in /opt/anaconda3/lib/python3.12/site-packages (from nltk) (4.66.5)\n",
      "Note: you may need to restart the kernel to use updated packages.\n"
     ]
    }
   ],
   "source": [
    "pip install nltk"
   ]
  },
  {
   "cell_type": "code",
   "execution_count": 3,
   "id": "27cb0247-9608-4a03-b6da-fc2648cbb129",
   "metadata": {},
   "outputs": [
    {
     "name": "stderr",
     "output_type": "stream",
     "text": [
      "[nltk_data] Downloading package punkt to /Users/bhumir/nltk_data...\n",
      "[nltk_data]   Package punkt is already up-to-date!\n",
      "[nltk_data] Downloading package stopwords to\n",
      "[nltk_data]     /Users/bhumir/nltk_data...\n",
      "[nltk_data]   Package stopwords is already up-to-date!\n"
     ]
    },
    {
     "data": {
      "text/plain": [
       "True"
      ]
     },
     "execution_count": 3,
     "metadata": {},
     "output_type": "execute_result"
    }
   ],
   "source": [
    "import nltk\n",
    "nltk.download('punkt')\n",
    "nltk.download('stopwords')"
   ]
  },
  {
   "cell_type": "code",
   "execution_count": 23,
   "id": "2723f043-487e-4abc-9f85-6364494a3dc4",
   "metadata": {},
   "outputs": [
    {
     "name": "stdout",
     "output_type": "stream",
     "text": [
      "Chatbot: Hello! Type 'exit' or 'bye' to end the conversation.\n"
     ]
    },
    {
     "name": "stdin",
     "output_type": "stream",
     "text": [
      "You:  your favourite colour?\n"
     ]
    },
    {
     "name": "stdout",
     "output_type": "stream",
     "text": [
      "Chatbot: I don't have preferences, but I think blue is cool!\n"
     ]
    },
    {
     "name": "stdin",
     "output_type": "stream",
     "text": [
      "You:  bye\n"
     ]
    },
    {
     "name": "stdout",
     "output_type": "stream",
     "text": [
      "Chatbot: Goodbye!\n"
     ]
    }
   ],
   "source": [
    "import nltk\n",
    "import random\n",
    "from nltk.chat.util import Chat, reflections\n",
    "\n",
    "# Sample pairs for the chatbot to recognize and respond to\n",
    "patterns = [\n",
    "    (r'hi|hello|hey', ['Hello! How can I assist you today?', 'Hi there! How can I help you?']),\n",
    "    (r'what is your name?', ['I am a chatbot created using NLTK.']),\n",
    "    (r'how are you?', ['I am just a bot, but I am doing fine! How can I help you?']),\n",
    "    (r'bye|exit', ['Goodbye! Have a great day!', 'See you later!']),\n",
    "    (r'your favourite colour?', ['I don\\'t have preferences, but I think blue is cool!']),\n",
    "    (r'what can you do?', ['I can answer simple questions and assist you with basic queries. Ask me anything!']),\n",
    "    (r'help', ['I can assist with answering questions like your name, color preferences, etc.']),\n",
    "    (r'(.*)', ['I\\'m not sure how to respond to that, but I am here to help!'])\n",
    "]\n",
    "\n",
    "# Create the chatbot with reflections (used to reflect user input, like changing 'I am' to 'you are')\n",
    "chatbot = Chat(patterns, reflections)\n",
    "\n",
    "def start_chat():\n",
    "    print(\"Chatbot: Hello! Type 'exit' or 'bye' to end the conversation.\")\n",
    "    while True:\n",
    "        user_input = input(\"You: \")\n",
    "        if user_input.lower() in ['exit', 'bye']:\n",
    "            print(\"Chatbot: Goodbye!\")\n",
    "            break\n",
    "        response = chatbot.respond(user_input)\n",
    "        print(f\"Chatbot: {response}\")\n",
    "\n",
    "# Run the chatbot\n",
    "if __name__ == \"__main__\":\n",
    "    start_chat()"
   ]
  },
  {
   "cell_type": "code",
   "execution_count": null,
   "id": "0351091b-c8f7-4d55-8eff-c4a7f972bbd4",
   "metadata": {},
   "outputs": [],
   "source": []
  }
 ],
 "metadata": {
  "kernelspec": {
   "display_name": "Python [conda env:base] *",
   "language": "python",
   "name": "conda-base-py"
  },
  "language_info": {
   "codemirror_mode": {
    "name": "ipython",
    "version": 3
   },
   "file_extension": ".py",
   "mimetype": "text/x-python",
   "name": "python",
   "nbconvert_exporter": "python",
   "pygments_lexer": "ipython3",
   "version": "3.12.2"
  }
 },
 "nbformat": 4,
 "nbformat_minor": 5
}
