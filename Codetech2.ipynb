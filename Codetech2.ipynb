{
 "cells": [
  {
   "cell_type": "code",
   "execution_count": 2,
   "id": "7dc3a41a-ec75-4512-bbb8-229afde192db",
   "metadata": {},
   "outputs": [
    {
     "name": "stdout",
     "output_type": "stream",
     "text": [
      "Requirement already satisfied: fpdf in /opt/anaconda3/lib/python3.12/site-packages (1.7.2)\n",
      "Note: you may need to restart the kernel to use updated packages.\n"
     ]
    }
   ],
   "source": [
    "pip install fpdf"
   ]
  },
  {
   "cell_type": "code",
   "execution_count": 14,
   "id": "2f41b474-6225-4c27-8b97-f6d60280ec9c",
   "metadata": {},
   "outputs": [
    {
     "name": "stdout",
     "output_type": "stream",
     "text": [
      "Report generated successfully and saved as report.pdf\n"
     ]
    }
   ],
   "source": [
    "import csv\n",
    "from fpdf import FPDF\n",
    "\n",
    "# Function to read data from a CSV file\n",
    "def read_data_from_file(filename):\n",
    "    data = []\n",
    "    with open(filename, mode='r') as file:\n",
    "        csvreader = csv.reader(file)\n",
    "        header = next(csvreader)  # Skip the header\n",
    "        for row in csvreader:\n",
    "            data.append(row)\n",
    "    return data\n",
    "\n",
    "# Function to analyze the data (basic analysis example)\n",
    "def analyze_data(data):\n",
    "    total_value = 0\n",
    "    row_count = len(data)\n",
    "    for row in data:\n",
    "        try:\n",
    "            total_value += float(row[1])  # Assuming the second column has numerical data\n",
    "        except ValueError:\n",
    "            continue\n",
    "    return row_count, total_value\n",
    "\n",
    "# Function to generate a PDF report\n",
    "def generate_pdf_report(row_count, total_value, filename=\"report.pdf\"):\n",
    "    # Initialize PDF\n",
    "    pdf = FPDF()\n",
    "    pdf.set_auto_page_break(auto=True, margin=15)\n",
    "    pdf.add_page()\n",
    "\n",
    "    # Set title\n",
    "    pdf.set_font('Arial', 'B', 16)\n",
    "    pdf.cell(200, 10, 'Data Analysis Report', ln=True, align='C')\n",
    "\n",
    "    # Add summary section\n",
    "    pdf.ln(10)\n",
    "    pdf.set_font('Arial', '', 12)\n",
    "    pdf.cell(200, 10, f'Total Rows in Data: {row_count}', ln=True)\n",
    "    pdf.cell(200, 10, f'Total Value in Column 2: {total_value}', ln=True)\n",
    "\n",
    "    # Save the PDF\n",
    "    pdf.output(filename)\n",
    "    print(f\"Report generated successfully and saved as {filename}\")\n",
    "\n",
    "# Main function to tie everything together\n",
    "def main():\n",
    "    # Read and analyze data\n",
    "    filename = 'sample_data.csv'\n",
    "    data = read_data_from_file(filename)\n",
    "    row_count, total_value = analyze_data(data)\n",
    "\n",
    "    # Generate PDF report\n",
    "    generate_pdf_report(row_count, total_value)\n",
    "\n",
    "# Run the script\n",
    "if __name__ == \"__main__\":\n",
    "    main()\n"
   ]
  }
 ],
 "metadata": {
  "kernelspec": {
   "display_name": "Python [conda env:base] *",
   "language": "python",
   "name": "conda-base-py"
  },
  "language_info": {
   "codemirror_mode": {
    "name": "ipython",
    "version": 3
   },
   "file_extension": ".py",
   "mimetype": "text/x-python",
   "name": "python",
   "nbconvert_exporter": "python",
   "pygments_lexer": "ipython3",
   "version": "3.12.2"
  }
 },
 "nbformat": 4,
 "nbformat_minor": 5
}
